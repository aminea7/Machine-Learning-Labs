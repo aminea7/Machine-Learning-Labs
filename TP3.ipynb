{
 "cells": [
  {
   "cell_type": "markdown",
   "metadata": {},
   "source": [
    "#### Apprentissage par Machines à Vecteurs de Support"
   ]
  },
  {
   "cell_type": "code",
   "execution_count": 35,
   "metadata": {},
   "outputs": [],
   "source": [
    "from sklearn.datasets import fetch_openml\n",
    "import numpy as np\n",
    "from sklearn.model_selection import train_test_split\n",
    "from sklearn.neural_network import MLPClassifier\n",
    "from sklearn.metrics import precision_score\n",
    "from sklearn.svm import SVC\n",
    "import time \n",
    "from sklearn.metrics import confusion_matrix \n",
    "import matplotlib.pyplot as plt\n",
    "\n",
    "#database\n",
    "mnist = fetch_openml('mnist_784')\n"
   ]
  },
  {
   "cell_type": "code",
   "execution_count": 36,
   "metadata": {},
   "outputs": [],
   "source": [
    "#Echantillon\n",
    "sample = np.random.randint(70000, size=7000)\n",
    "data = mnist.data[sample]\n",
    "target = mnist.target[sample]\n",
    "\n",
    "#Split for train/test\n",
    "xtrain, xtest, ytrain, ytest = train_test_split(data, target, train_size=0.7)\n"
   ]
  },
  {
   "cell_type": "markdown",
   "metadata": {},
   "source": [
    "#### Construire un modèle de classification ayant comme paramètres un noyau linear"
   ]
  },
  {
   "cell_type": "code",
   "execution_count": 37,
   "metadata": {},
   "outputs": [
    {
     "name": "stdout",
     "output_type": "stream",
     "text": [
      "precision score linear = 90.85714285714286\n"
     ]
    }
   ],
   "source": [
    "xClassifier=[]\n",
    "yPresision=[]\n",
    "yTime=[]\n",
    "\n",
    "#Noyau linear\n",
    "classifier_ln = SVC(kernel='linear')   \n",
    "start_ln=time.time()\n",
    "classifier_ln.fit(xtrain, ytrain)\n",
    "delay_ln=time.time()-start_ln\n",
    "precision_score_ln = precision_score(ytest, classifier_ln.predict(xtest),average='micro')\n",
    "print(\"precision score linear = \"+str(precision_score_ln*100))\n",
    "\n",
    "xClassifier.append('Linear')\n",
    "yPresision.append(precision_score_ln*100)\n",
    "yTime.append(delay_ln)"
   ]
  },
  {
   "cell_type": "markdown",
   "metadata": {},
   "source": [
    "#### Tentez d’améliorer les résultats en variant la fonction noyau : ‘poly’, ‘rbf’, ‘sigmoid’, ‘precomputed’"
   ]
  },
  {
   "cell_type": "code",
   "execution_count": 38,
   "metadata": {},
   "outputs": [
    {
     "name": "stdout",
     "output_type": "stream",
     "text": [
      "precision score poly = 94.80952380952381\n",
      "precision score rbf = 16.952380952380953\n",
      "precision score sigmoid = 11.285714285714285\n"
     ]
    }
   ],
   "source": [
    "#Noyau poly\n",
    "from sklearn.metrics import precision_score\n",
    "classifier_poly = SVC(kernel='poly', gamma='auto')  \n",
    "start_poly=time.time()\n",
    "classifier_poly.fit(xtrain, ytrain) \n",
    "delay_poly=time.time()-start_poly\n",
    "precision_score_poly = precision_score(ytest, classifier_poly.predict(xtest),average='micro')\n",
    "print(\"precision score poly = \"+str(precision_score_poly*100))\n",
    "\n",
    "xClassifier.append('Poly')\n",
    "yPresision.append(precision_score_poly*100)\n",
    "yTime.append(delay_poly)\n",
    "\n",
    "#Noyau rbf\n",
    "classifier_rbf = SVC(kernel='rbf', gamma='auto')     \n",
    "start_rbf=time.time()\n",
    "classifier_rbf.fit(xtrain, ytrain) \n",
    "delay_rbf=time.time()-start_rbf\n",
    "precision_score_rbf = precision_score(ytest, classifier_rbf.predict(xtest),average='micro')\n",
    "print(\"precision score rbf = \"+str(precision_score_rbf*100))\n",
    "\n",
    "xClassifier.append('rbf')\n",
    "yPresision.append(precision_score_rbf*100)\n",
    "yTime.append(delay_rbf)\n",
    "\n",
    "#Noyau sigmoid\n",
    "classifier_sig = SVC(kernel='sigmoid', gamma='auto')     \n",
    "start_sig=time.time()\n",
    "classifier_sig.fit(xtrain, ytrain) \n",
    "delay_sig=time.time()-start_sig\n",
    "precision_score_sig = precision_score(ytest, classifier_sig.predict(xtest),average='micro')\n",
    "print(\"precision score sigmoid = \"+str(precision_score_sig*100))\n",
    "\n",
    "xClassifier.append('sig')\n",
    "yPresision.append(precision_score_sig*100)\n",
    "yTime.append(delay_sig)"
   ]
  },
  {
   "cell_type": "code",
   "execution_count": 39,
   "metadata": {},
   "outputs": [
    {
     "data": {
      "image/png": "[encoded data removed]",
      "text/plain": [
       "<Figure size 432x288 with 1 Axes>"
      ]
     },
     "metadata": {
      "needs_background": "light"
     },
     "output_type": "display_data"
    },
    {
     "data": {
      "image/png": "[encoded data removed]",
      "text/plain": [
       "<Figure size 432x288 with 1 Axes>"
      ]
     },
     "metadata": {
      "needs_background": "light"
     },
     "output_type": "display_data"
    }
   ],
   "source": [
    "#Plot Precision\n",
    "plt.bar(xClassifier,yPresision)\n",
    "plt.title('Précision des noyaux \\n')\n",
    "plt.xlabel('Noyau')\n",
    "plt.ylabel('Précision')\n",
    "plt.show()\n",
    "\n",
    "#Plot Time\n",
    "plt.bar(xClassifier,yTime)\n",
    "plt.title('Temps d\\'entrainement des noyaux\\n')\n",
    "plt.xlabel('Noyau')\n",
    "plt.ylabel('Temps CPU')\n",
    "plt.show()"
   ]
  },
  {
   "cell_type": "markdown",
   "metadata": {},
   "source": [
    "#### Faites varier le paramètre de tolérance aux erreurs C "
   ]
  },
  {
   "cell_type": "code",
   "execution_count": 40,
   "metadata": {},
   "outputs": [
    {
     "name": "stdout",
     "output_type": "stream",
     "text": [
      "precision score for c = 0.2 = 94.80952380952381\n",
      "precision score for c = 0.4 = 94.80952380952381\n",
      "precision score for c = 0.6 = 94.80952380952381\n",
      "precision score for c = 0.8 = 94.80952380952381\n",
      "precision score for c = 1.0 = 94.80952380952381\n"
     ]
    }
   ],
   "source": [
    "# à chaque utilisation de precision_score 2 fois de suite il nous affiche une erreur incorrigible c'est pour cela qu'on import à chaque itération\n",
    "\n",
    "for i in range(2,11,2) :    \n",
    "    classifier = SVC(C=(i/10),kernel='poly', gamma='auto')   #Classifier poly\n",
    "    classifier.fit(xtrain, ytrain) \n",
    "    #clock\n",
    "    from sklearn.metrics import precision_score\n",
    "    #precision\n",
    "    #precision_score = precision_score(ytest, classifier.predict(xtest),average='micro')\n",
    "    precision_score = classifier.score(xtest,ytest)\n",
    "    print(\"precision score for c = \"+str(i/10)+\" = \"+str(precision_score*100))"
   ]
  },
  {
   "cell_type": "markdown",
   "metadata": {},
   "source": [
    "#### Tracez la courbe d’erreur de classification sur les données d’entrainement et de test en fonction de C\n",
    "En variant la tolérance aux erreurs C, on obtient toujours les mêmes résultats. Ainsi l'erreur de classification sur les données est la même"
   ]
  },
  {
   "cell_type": "markdown",
   "metadata": {},
   "source": [
    "#### Construisez la matrice de confusion en utilisant le package metrics"
   ]
  },
  {
   "cell_type": "code",
   "execution_count": 44,
   "metadata": {},
   "outputs": [
    {
     "name": "stdout",
     "output_type": "stream",
     "text": [
      "CM linéaire : \n",
      "\n",
      "[[196   0   0   0   0   2   0   1   1   0]\n",
      " [  0 233   1   2   0   0   0   0   1   0]\n",
      " [  2   4 187   1   3   1   2   1   1   0]\n",
      " [  1   1   6 190   0   9   0   2   4   2]\n",
      " [  1   2   3   0 179   0   2   2   0   9]\n",
      " [  4   4   2  10   0 156   2   0   2   0]\n",
      " [  1   1   6   0   1   2 196   0   1   0]\n",
      " [  0   3   3   2   1   0   0 228   0  10]\n",
      " [  3   9   4   7   1  11   4   0 168   5]\n",
      " [  0   2   2   3  10   1   0   6   2 175]]\n",
      "\n",
      "\n",
      "CM poly : \n",
      "\n",
      "[[195   1   0   0   0   1   1   1   1   0]\n",
      " [  0 232   1   1   1   0   0   0   0   2]\n",
      " [  2   1 195   3   0   0   1   0   0   0]\n",
      " [  2   1   4 200   1   3   0   1   3   0]\n",
      " [  0   1   1   0 186   1   1   0   0   8]\n",
      " [  2   5   1   2   0 169   1   0   0   0]\n",
      " [  0   0   0   0   0   1 205   0   2   0]\n",
      " [  0   4   2   1   0   0   0 234   0   6]\n",
      " [  1   3   1   4   1   2   2   0 194   4]\n",
      " [  0   3   1   2   4   1   0   8   1 181]]\n",
      "\n",
      "\n",
      "CM rbf : \n",
      "\n",
      "[[  8 192   0   0   0   0   0   0   0   0]\n",
      " [  0 237   0   0   0   0   0   0   0   0]\n",
      " [  0 186  16   0   0   0   0   0   0   0]\n",
      " [  0 201   0  14   0   0   0   0   0   0]\n",
      " [  0 182   0   0  16   0   0   0   0   0]\n",
      " [  0 168   0   0   0  12   0   0   0   0]\n",
      " [  0 194   0   0   0   0  14   0   0   0]\n",
      " [  0 236   0   0   0   0   0  11   0   0]\n",
      " [  0 199   0   0   0   0   0   0  13   0]\n",
      " [  0 186   0   0   0   0   0   0   0  15]]\n",
      "\n",
      "\n",
      "CM sig : \n",
      "\n",
      "[[  0 200   0   0   0   0   0   0   0   0]\n",
      " [  0 237   0   0   0   0   0   0   0   0]\n",
      " [  0 202   0   0   0   0   0   0   0   0]\n",
      " [  0 215   0   0   0   0   0   0   0   0]\n",
      " [  0 198   0   0   0   0   0   0   0   0]\n",
      " [  0 180   0   0   0   0   0   0   0   0]\n",
      " [  0 208   0   0   0   0   0   0   0   0]\n",
      " [  0 247   0   0   0   0   0   0   0   0]\n",
      " [  0 212   0   0   0   0   0   0   0   0]\n",
      " [  0 201   0   0   0   0   0   0   0   0]]\n",
      "\n",
      "\n"
     ]
    }
   ],
   "source": [
    "cm_ln = confusion_matrix(ytest, classifier_ln.predict(xtest)) \n",
    "print('CM linéaire : \\n')\n",
    "print(cm_ln)\n",
    "print('\\n')\n",
    "\n",
    "cm_poly = confusion_matrix(ytest, classifier_poly.predict(xtest)) \n",
    "print('CM poly : \\n')\n",
    "print(cm_poly)\n",
    "print('\\n')\n",
    "\n",
    "cm_rbf = confusion_matrix(ytest, classifier_rbf.predict(xtest)) \n",
    "print('CM rbf : \\n')\n",
    "print(cm_rbf)\n",
    "print('\\n')\n",
    "\n",
    "cm_sig = confusion_matrix(ytest, classifier_sig.predict(xtest)) \n",
    "print('CM sig : \\n')\n",
    "print(cm_sig)\n",
    "print('\\n')"
   ]
  },
  {
   "cell_type": "markdown",
   "metadata": {},
   "source": [
    "####  A votre avis, quels sont les avantages et les inconvénients du SVM ?\n",
    "#### Avantages :\n",
    "- Il existe plusieurs fonctions de noyaux qui peuvent améliorer les résultats. Cela dépend du nombre des classes dans le jeu de données et de sa taille.\n",
    "- Le noyau linéaire donne un résultat rapide avec une bonne performance.\n",
    "- Nécessite moins de jeu de données que le réseau de neurones \n",
    "\n",
    "#### Inconvénients : \n",
    "- Les noyaux rbf et sigmoid ont de faibles performances (du moins dans notre cas)\n",
    "- Ces deux noyaux nécessitent beaucoup de temps de calcul\n",
    "- Nécessite plus de jeu de données que kNN"
   ]
  },
  {
   "cell_type": "markdown",
   "metadata": {},
   "source": [
    "#### A votre avis, quel est le meilleur classifieur et quels sont ses hyperparamètres finaux ? \n",
    "Selon les cas, un algorithme peut être meilleur qu’un autre. \n",
    "\n",
    "En effet, les réseaux de neurones sont plus performants que d’autres méthodes si, il existe vraiment beaucoup de données et leur structure est complexe. En particulier, si vous souhaitez résoudre un problème de classification, vous avez besoin de nombreux exemples par classe.\n",
    "\n",
    "En revanche, le classifieur kNN n'a pas besoin de beaucoup d'exemples par classe. Donc, si vous avez un problème de classification avec quelques exemples d’entraînement par classe, kNN aurait probablement une meilleure performance que d’autres méthodes. \n",
    "\n",
    "Pour obtenir une bonne performance, SVM nécessite beaucoup plus de données d’entraînement que kNN, mais moins que le réseaux de neurones. SVM linéaire peut être entraîné plus rapidement, mais il est moins précis que les approches non linéaires. Son temps d’entraînement est également plus long que celui du cas linéaire.\n",
    "\n",
    "Cela dit, les algorithmes d'entraînement pour SVM ont de meilleures garanties. Les réseaux de neurones sont plus difficiles et nécessitent parfois un peu d’entretien."
   ]
  }
 ],
 "metadata": {
  "kernelspec": {
   "display_name": "Python 3",
   "language": "python",
   "name": "python3"
  },
  "language_info": {
   "codemirror_mode": {
    "name": "ipython",
    "version": 3
   },
   "file_extension": ".py",
   "mimetype": "text/x-python",
   "name": "python",
   "nbconvert_exporter": "python",
   "pygments_lexer": "ipython3",
   "version": "3.7.4"
  }
 },
 "nbformat": 4,
 "nbformat_minor": 2
}
