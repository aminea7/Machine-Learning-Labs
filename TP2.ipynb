{
 "cells": [
  {
   "cell_type": "markdown",
   "metadata": {},
   "source": [
    "#### Apprentissage par perceptron multi-couche"
   ]
  },
  {
   "cell_type": "code",
   "execution_count": 1,
   "metadata": {},
   "outputs": [],
   "source": [
    "#Importing\n",
    "from sklearn.datasets import fetch_openml\n",
    "import numpy as np\n",
    "from sklearn.model_selection import train_test_split\n",
    "from sklearn.neural_network import MLPClassifier\n",
    "from sklearn.metrics import precision_score\n",
    "import matplotlib.pyplot as plt\n",
    "from scipy.optimize import curve_fit\n",
    "from scipy.interpolate import interp1d\n",
    "import time\n",
    "\n",
    "#Database\n",
    "mnist = fetch_openml('mnist_784')\n"
   ]
  },
  {
   "cell_type": "code",
   "execution_count": 2,
   "metadata": {},
   "outputs": [],
   "source": [
    "#Echantillon\n",
    "sample = np.random.randint(70000, size=7000)\n",
    "data = mnist.data[sample]\n",
    "target = mnist.target[sample]\n",
    "\n",
    "#Split for train/test\n",
    "xtrain, xtest, ytrain, ytest = train_test_split(data, target, train_size=4900)\n"
   ]
  },
  {
   "cell_type": "markdown",
   "metadata": {},
   "source": [
    "#### Construire un modèle de classification ayant comme paramètre : hidden_layer_sizes = (50), puis calculez la précession du classifieur"
   ]
  },
  {
   "cell_type": "code",
   "execution_count": 3,
   "metadata": {},
   "outputs": [
    {
     "name": "stdout",
     "output_type": "stream",
     "text": [
      "Score: 88.23809523809524\n",
      "Error: 11.76190476190476\n"
     ]
    }
   ],
   "source": [
    "#Model classificator\n",
    "model = MLPClassifier(hidden_layer_sizes=50)\n",
    "#Train\n",
    "model.fit(xtrain, ytrain)\n",
    "\n",
    "#Score & Error\n",
    "score=model.score(xtest,ytest)*100\n",
    "print(\"Score: \"+str(score))\n",
    "error=100-score\n",
    "print(\"Error: \"+str(error))\n"
   ]
  },
  {
   "cell_type": "markdown",
   "metadata": {},
   "source": [
    "####  Afficher la classe de l’image 9 et sa classe prédite"
   ]
  },
  {
   "cell_type": "code",
   "execution_count": 4,
   "metadata": {},
   "outputs": [
    {
     "name": "stdout",
     "output_type": "stream",
     "text": [
      "Prediction = ['4'] et nombre réel = 9\n"
     ]
    }
   ],
   "source": [
    "#Test on the number 9\n",
    "prediction=model.predict(mnist.data[22].reshape(1, -1))    #9\n",
    "reel_number = mnist.target[22]     \n",
    "print(\"Prediction = \"+str(prediction)+\" et nombre réel = \"+str(reel_number))\n"
   ]
  },
  {
   "cell_type": "markdown",
   "metadata": {},
   "source": [
    "#### Varier le nombre de couches de 1 entre (2 et 100) couches, et recalculer la précision du classifieur"
   ]
  },
  {
   "cell_type": "code",
   "execution_count": 5,
   "metadata": {},
   "outputs": [
    {
     "data": {
      "image/png": "[encoded data removed]",
      "text/plain": [
       "<Figure size 432x288 with 1 Axes>"
      ]
     },
     "metadata": {
      "needs_background": "light"
     },
     "output_type": "display_data"
    },
    {
     "data": {
      "image/png": "[encoded data removed]",
      "text/plain": [
       "<Figure size 432x288 with 1 Axes>"
      ]
     },
     "metadata": {
      "needs_background": "light"
     },
     "output_type": "display_data"
    }
   ],
   "source": [
    "xcouches=[]\n",
    "yprecision=[]\n",
    "ytime=[]\n",
    "\n",
    "#2 Layers\n",
    "layers2=[]\n",
    "for i in range(2):\n",
    "    layers2.append(50)\n",
    "\n",
    "model2 = MLPClassifier(hidden_layer_sizes=tuple(layers2))\n",
    "start2=time.time()\n",
    "model2.fit(xtrain, ytrain)\n",
    "delay2=time.time()-start2\n",
    "precision_score2 = model2.score(xtest,ytest)*100\n",
    "#print(\"precision score for 2 layers = \"+str(precision_score2))\n",
    "xcouches.append(2)\n",
    "yprecision.append(precision_score2)\n",
    "ytime.append(delay2)\n",
    "\n",
    "#5 Layers\n",
    "layers5=[]\n",
    "for i in range(5):\n",
    "    layers5.append(50)\n",
    "\n",
    "model5 = MLPClassifier(hidden_layer_sizes=tuple(layers5))\n",
    "start5=time.time()\n",
    "model5.fit(xtrain, ytrain)\n",
    "delay5=time.time()-start5\n",
    "precision_score5 = model5.score(xtest,ytest)*100\n",
    "#print(\"precision score for 5 layers = \"+str(precision_score5))\n",
    "xcouches.append(5)\n",
    "yprecision.append(precision_score5)\n",
    "ytime.append(delay5)\n",
    "\n",
    "#10 to 50 Layers\n",
    "for j in range(10,60,10):\n",
    "    layers10=[]\n",
    "    for i in range(j):\n",
    "        layers10.append(50)\n",
    "\n",
    "    model10 = MLPClassifier(hidden_layer_sizes=tuple(layers10))\n",
    "    start10=time.time()\n",
    "    model10.fit(xtrain, ytrain)\n",
    "    delay10=time.time()-start10\n",
    "    precision_score10 = model10.score(xtest,ytest)*100\n",
    "    #print(\"precision score for 10 layers = \"+str(precision_score10))\n",
    "    xcouches.append(j)\n",
    "    yprecision.append(precision_score10)\n",
    "    ytime.append(delay10)\n",
    "\n",
    "#100 Layers\n",
    "layers100=[]\n",
    "for i in range(100):\n",
    "    layers100.append(50)\n",
    "\n",
    "model100 = MLPClassifier(hidden_layer_sizes=tuple(layers100))\n",
    "start100=time.time()\n",
    "model100.fit(xtrain, ytrain)\n",
    "delay100=time.time()-start100\n",
    "precision_score100 = model100.score(xtest,ytest)*100\n",
    "#print(\"precision score for 100 layers = \"+str(precision_score100))\n",
    "xcouches.append(100)\n",
    "yprecision.append(precision_score100)\n",
    "ytime.append(delay100)\n",
    "\n",
    "#Plot Precision\n",
    "plt.scatter(xcouches,yprecision)\n",
    "plt.title('Précision du Classificateur en fonction du nombre de couches\\n')\n",
    "plt.xlabel('Nombre de couches')\n",
    "plt.ylabel('Précision')\n",
    "#plt.savefig('ScatterPlot_01.png')\n",
    "plt.show()\n",
    "\n",
    "#Plot Time\n",
    "plt.scatter(xcouches,ytime)\n",
    "plt.title('Temps dentrainement du Classificateur en fonction du nombre de couches\\n')\n",
    "plt.xlabel('Nombre de couches')\n",
    "plt.ylabel('Temps dentrainement')\n",
    "#plt.savefig('ScatterPlot_01.png')\n",
    "plt.show()\n",
    "\n"
   ]
  },
  {
   "cell_type": "markdown",
   "metadata": {},
   "source": [
    "#### Construire 2 modèles de classification des données mnist, avec des réseaux qui ont respectivement :\n",
    "- Modèle1: 50 couches cachées, et des tailles de couches de manière regressives de 60 à 11 par pas de -1 \n",
    "- Modèle2: 20 couches cachées, et des tailles de couches de manière regressives de 60 à 33 par pas de -3, puis -2  \n",
    "\n",
    "Quelles sont les performances en taux de bonne classification et en temps d’apprentissage obtenus pour chaque modèle ? Utilisez la fonction time() du package time pour mesurer le temps d’apprentissage d’un modèle.   "
   ]
  },
  {
   "cell_type": "code",
   "execution_count": 6,
   "metadata": {},
   "outputs": [
    {
     "name": "stdout",
     "output_type": "stream",
     "text": [
      " - Modèle 1 : \n",
      "Score = 11.333333333333332\n",
      "Temps d'entrainement = 13.117745876312256\n",
      "\n",
      " - Modèle 2 : \n",
      "Score = 92.61904761904762\n",
      "Temps d'entrainement = 20.750596523284912\n"
     ]
    }
   ],
   "source": [
    "#Model1 : 50 Couches, 60 à 11 neuronnes par pas de -1\n",
    "layersRegressif50 = []\n",
    "for i in range(60,10,-1) :\n",
    "    layersRegressif50.append(i)\n",
    "modelRegressif50 = MLPClassifier(hidden_layer_sizes=tuple(layersRegressif50))\n",
    "start1 = time.time()\n",
    "modelRegressif50.fit(xtrain, ytrain)\n",
    "delay1 = time.time() - start1\n",
    "precision_scoreRegressif50 = modelRegressif50.score(xtest,ytest)*100\n",
    "\n",
    "print(\" - Modèle 1 : \")\n",
    "print(\"Score = \"+str(precision_scoreRegressif50))\n",
    "print(\"Temps d'entrainement = \"+str(delay1)+\"\\n\")\n",
    "\n",
    "#Model2 : 20 Couches, 60 à 11 neuronnes par pas de -3 jusqu'à 33, puis pas de -2\n",
    "layersRegressif20 = []\n",
    "for i in range(60,32,-3) :\n",
    "    layersRegressif20.append(i)\n",
    "\n",
    "for i in range(31,10,-2) :\n",
    "    layersRegressif20.append(i)\n",
    "\n",
    "modelRegressif20 = MLPClassifier(hidden_layer_sizes=tuple(layersRegressif20))\n",
    "start2 = time.time()\n",
    "modelRegressif20.fit(xtrain, ytrain)\n",
    "delay2 = time.time() - start2\n",
    "precision_scoreRegressif20 = modelRegressif20.score(xtest,ytest)*100\n",
    "\n",
    "print(\" - Modèle 2 : \")\n",
    "print(\"Score = \"+str(precision_scoreRegressif20))\n",
    "print(\"Temps d'entrainement = \"+str(delay2))\n",
    "\n"
   ]
  },
  {
   "cell_type": "markdown",
   "metadata": {},
   "source": [
    "#### Etudier la convergence des algorithmes d’optimisation disponibles : L-BFGS, SGD et Adam\n"
   ]
  },
  {
   "cell_type": "code",
   "execution_count": 7,
   "metadata": {},
   "outputs": [
    {
     "data": {
      "image/png": "[encoded data removed]",
      "text/plain": [
       "<Figure size 432x288 with 1 Axes>"
      ]
     },
     "metadata": {
      "needs_background": "light"
     },
     "output_type": "display_data"
    },
    {
     "data": {
      "image/png": "[encoded data removed]",
      "text/plain": [
       "<Figure size 432x288 with 1 Axes>"
      ]
     },
     "metadata": {
      "needs_background": "light"
     },
     "output_type": "display_data"
    }
   ],
   "source": [
    "#On garde le 2e type de Modèle régressif avec 20 couches car il est plus efficace\n",
    "xcouches2=[]\n",
    "yprecision2=[]\n",
    "ytime2=[]\n",
    "\n",
    "#L-BFGS\n",
    "model20_lbfgs = MLPClassifier(hidden_layer_sizes=tuple(layersRegressif20), solver='lbfgs')\n",
    "start_lbfgs=time.time()\n",
    "model20_lbfgs.fit(xtrain, ytrain)\n",
    "delay_lbfgs=time.time()-start_lbfgs\n",
    "prec_model20_lbfgs = model20_lbfgs.score(xtest,ytest)*100\n",
    "#print(\"precision score for 20 layers régressifs, L-BFGS = \"+str(prec_model20_lbfgs))\n",
    "xcouches2.append(\"L-BFGS\")\n",
    "yprecision2.append(prec_model20_lbfgs)\n",
    "ytime2.append(delay_lbfgs)\n",
    "\n",
    "#SGD\n",
    "model20_sgd = MLPClassifier(hidden_layer_sizes=tuple(layersRegressif20), solver='sgd')\n",
    "start_sgd=time.time()\n",
    "model20_sgd.fit(xtrain, ytrain)\n",
    "delay_sgd=time.time()-start_sgd\n",
    "prec_model20_sgd = model20_sgd.score(xtest,ytest)*100\n",
    "#print(\"Precision score for 20 layers régressifs, SGD = \"+str(prec_model20_sgd))\n",
    "xcouches2.append(\"SGD\")\n",
    "yprecision2.append(prec_model20_sgd)\n",
    "ytime2.append(delay_sgd)\n",
    "\n",
    "#Adam\n",
    "model20_adam = MLPClassifier(hidden_layer_sizes=tuple(layersRegressif20), solver='adam')\n",
    "start_adam=time.time()\n",
    "model20_adam.fit(xtrain, ytrain)\n",
    "delay_adam=time.time()-start_adam\n",
    "prec_model20_adam = model20_adam.score(xtest,ytest)*100\n",
    "xcouches2.append(\"Adam\")\n",
    "yprecision2.append(prec_model20_adam)\n",
    "ytime2.append(delay_adam)\n",
    "\n",
    "#Plot Precision\n",
    "plt.bar(xcouches2,yprecision2)\n",
    "plt.title('Précision du Classificateur en fonction de lalgorithme doptimisation  \\n')\n",
    "plt.xlabel('Algorithme doptimisation  ')\n",
    "plt.ylabel('Précision')\n",
    "plt.show()\n",
    "\n",
    "#Plot Time\n",
    "plt.bar(xcouches2,ytime2)\n",
    "plt.title('Temps dentrainement du Classificateur en fonction de lalgorithme doptimisation  \\n')\n",
    "plt.xlabel('Algorithme doptimisation ')\n",
    "plt.ylabel('Temps dentrainement')\n",
    "plt.show()\n",
    "\n"
   ]
  },
  {
   "cell_type": "markdown",
   "metadata": {},
   "source": [
    "#### Varier les fonctions d’activation {‘identity’, ‘logistic’, ‘tanh’, ‘relu’}"
   ]
  },
  {
   "cell_type": "code",
   "execution_count": 8,
   "metadata": {},
   "outputs": [
    {
     "data": {
      "image/png": "[encoded data removed]",
      "text/plain": [
       "<Figure size 432x288 with 1 Axes>"
      ]
     },
     "metadata": {
      "needs_background": "light"
     },
     "output_type": "display_data"
    },
    {
     "data": {
      "image/png": "[encoded data removed]",
      "text/plain": [
       "<Figure size 432x288 with 1 Axes>"
      ]
     },
     "metadata": {
      "needs_background": "light"
     },
     "output_type": "display_data"
    }
   ],
   "source": [
    "#On garde le 2e type de Modèle régressif avec 20 couches car il est plus efficace\n",
    "xcouches3=[]\n",
    "yprecision3=[]\n",
    "ytime3=[]\n",
    "\n",
    "#Identity\n",
    "model20_id = MLPClassifier(hidden_layer_sizes=tuple(layersRegressif20), activation='identity')\n",
    "start_id=time.time()\n",
    "model20_id.fit(xtrain, ytrain)\n",
    "delay_id=time.time()-start_id\n",
    "prec_model20_id = model20_id.score(xtest,ytest)*100\n",
    "#print(\"Precision score for 20 layers régressifs (fonction activation: Identity) = \"+str(prec_model20_id))\n",
    "xcouches3.append(\"Identity\")\n",
    "yprecision3.append(prec_model20_id)\n",
    "ytime3.append(delay_id)\n",
    "\n",
    "#Logistic\n",
    "model20_log = MLPClassifier(hidden_layer_sizes=tuple(layersRegressif20), activation='logistic')\n",
    "start_log=time.time()\n",
    "model20_log.fit(xtrain, ytrain)\n",
    "delay_log=time.time()-start_log\n",
    "prec_model20_log = model20_log.score(xtest,ytest)*100\n",
    "#print(\"Precision score for 20 layers régressifs (fonction activation: Logistic) = \"+str(prec_model20_log))\n",
    "xcouches3.append(\"Logistic\")\n",
    "yprecision3.append(prec_model20_log)\n",
    "ytime3.append(delay_log)\n",
    "\n",
    "#Tanh\n",
    "model20_tanh = MLPClassifier(hidden_layer_sizes=tuple(layersRegressif20), activation='tanh')\n",
    "start_tanh=time.time()\n",
    "model20_tanh.fit(xtrain, ytrain)\n",
    "delay_tanh=time.time()-start_tanh\n",
    "prec_model20_tanh = model20_tanh.score(xtest,ytest)*100\n",
    "#print(\"Precision score for 20 layers régressifs (fonction activation: Tanh) = \"+str(prec_model20_tanh))\n",
    "xcouches3.append(\"Tanh\")\n",
    "yprecision3.append(prec_model20_tanh)\n",
    "ytime3.append(delay_tanh)\n",
    "\n",
    "#Relu\n",
    "model20_relu = MLPClassifier(hidden_layer_sizes=tuple(layersRegressif20), activation='relu')\n",
    "start_relu=time.time()\n",
    "model20_relu.fit(xtrain, ytrain)\n",
    "delay_relu=time.time()-start_relu\n",
    "prec_model20_relu = model20_relu.score(xtest,ytest)*100\n",
    "#print(\"Precision score for 20 layers régressifs (fonction activation: Relu) = \"+str(prec_model20_relu))\n",
    "xcouches3.append(\"Relu\")\n",
    "yprecision3.append(prec_model20_relu)\n",
    "ytime3.append(delay_relu)\n",
    "\n",
    "#Plot Precision\n",
    "plt.bar(xcouches3,yprecision3)\n",
    "plt.title('Précision du Classificateur en fonction de la fonction dactivation  \\n')\n",
    "plt.xlabel('Fonction dactivation')\n",
    "plt.ylabel('Précision')\n",
    "plt.show()\n",
    "\n",
    "#Plot Time\n",
    "plt.bar(xcouches3,ytime3)\n",
    "plt.title('Temps dentrainement du Classificateur en fonction de la fonction dactivation  \\n')\n",
    "plt.xlabel('Fonction dactivation')\n",
    "plt.ylabel('Temps dentrainement')\n",
    "plt.show()\n"
   ]
  },
  {
   "cell_type": "markdown",
   "metadata": {},
   "source": [
    "#### Changer la valeur de la régularisation L2 (paramètre α)"
   ]
  },
  {
   "cell_type": "code",
   "execution_count": 10,
   "metadata": {},
   "outputs": [
    {
     "data": {
      "image/png": "[encoded data removed]",
      "text/plain": [
       "<Figure size 432x288 with 1 Axes>"
      ]
     },
     "metadata": {
      "needs_background": "light"
     },
     "output_type": "display_data"
    },
    {
     "data": {
      "image/png": "[encoded data removed]",
      "text/plain": [
       "<Figure size 432x288 with 1 Axes>"
      ]
     },
     "metadata": {
      "needs_background": "light"
     },
     "output_type": "display_data"
    }
   ],
   "source": [
    "#alpha : float, optional, default 0.0001\n",
    "xcouches4=[]\n",
    "yprecision4=[]\n",
    "ytime4=[]\n",
    "\n",
    "#alpha=1e-4 (0.0001)\n",
    "model20_4 = MLPClassifier(hidden_layer_sizes=tuple(layersRegressif20), alpha=1e-4)\n",
    "start_4=time.time()\n",
    "model20_4.fit(xtrain, ytrain)\n",
    "delay_4=time.time()-start_4\n",
    "prec_model20_4 = model20_4.score(xtest,ytest)*100\n",
    "#print(\"Precision score for 20 layers régressifs (fonction activation: Identity) = \"+str(prec_model20_id))\n",
    "xcouches4.append(\"0.0001\")\n",
    "yprecision4.append(prec_model20_4)\n",
    "ytime4.append(delay_4)\n",
    "\n",
    "#alpha=1e-3 (0.001)\n",
    "model20_3 = MLPClassifier(hidden_layer_sizes=tuple(layersRegressif20), alpha=1e-3)\n",
    "start_3=time.time()\n",
    "model20_3.fit(xtrain, ytrain)\n",
    "delay_3=time.time()-start_3\n",
    "prec_model20_3 = model20_3.score(xtest,ytest)*100\n",
    "#print(\"Precision score for 20 layers régressifs (fonction activation: Identity) = \"+str(prec_model20_id))\n",
    "xcouches4.append(\"0.001\")\n",
    "yprecision4.append(prec_model20_3)\n",
    "ytime4.append(delay_3)\n",
    "\n",
    "#alpha=1e-2 (0.01)\n",
    "model20_2 = MLPClassifier(hidden_layer_sizes=tuple(layersRegressif20), alpha=1e-2)\n",
    "start_2=time.time()\n",
    "model20_2.fit(xtrain, ytrain)\n",
    "delay_2=time.time()-start_2\n",
    "prec_model20_2 = model20_2.score(xtest,ytest)*100\n",
    "#print(\"Precision score for 20 layers régressifs (fonction activation: Identity) = \"+str(prec_model20_id))\n",
    "xcouches4.append(\"0.01\")\n",
    "yprecision4.append(prec_model20_2)\n",
    "ytime4.append(delay_2)\n",
    "\n",
    "#alpha=1e-1 (0.1)\n",
    "model20_1 = MLPClassifier(hidden_layer_sizes=tuple(layersRegressif20), alpha=1e-1)\n",
    "start_1=time.time()\n",
    "model20_1.fit(xtrain, ytrain)\n",
    "delay_1=time.time()-start_1\n",
    "prec_model20_1 = model20_1.score(xtest,ytest)*100\n",
    "#print(\"Precision score for 20 layers régressifs (fonction activation: Identity) = \"+str(prec_model20_id))\n",
    "xcouches4.append(\"0.1\")\n",
    "yprecision4.append(prec_model20_1)\n",
    "ytime4.append(delay_1)\n",
    "\n",
    "#alpha=1e-0 (1)\n",
    "model20_0 = MLPClassifier(hidden_layer_sizes=tuple(layersRegressif20), alpha=1e-0)\n",
    "start_0=time.time()\n",
    "model20_0.fit(xtrain, ytrain)\n",
    "delay_0=time.time()-start_0\n",
    "prec_model20_0 = model20_0.score(xtest,ytest)*100\n",
    "#print(\"Precision score for 20 layers régressifs (fonction activation: Identity) = \"+str(prec_model20_id))\n",
    "xcouches4.append(\"1\")\n",
    "yprecision4.append(prec_model20_0)\n",
    "ytime4.append(delay_0)\n",
    "\n",
    "#Plot Precision\n",
    "plt.scatter(xcouches4,yprecision4)\n",
    "plt.title('Précision du Classificateur en fonction du paramètre de régularisation L2 (alpha) \\n')\n",
    "plt.xlabel('Alpha')\n",
    "plt.ylabel('Précision')\n",
    "plt.show()\n",
    "\n",
    "#Plot Time\n",
    "plt.bar(xcouches4,ytime4)\n",
    "plt.title('Temps dentrainement du Classificateur en fonction de régularisation L2 (alpha) \\n')\n",
    "plt.xlabel('Alpha')\n",
    "plt.ylabel('Temps dentrainement')\n",
    "plt.show()\n"
   ]
  },
  {
   "cell_type": "markdown",
   "metadata": {},
   "source": [
    "#### Choisissez le modèle qui propose de meilleurs résultats"
   ]
  },
  {
   "cell_type": "markdown",
   "metadata": {},
   "source": [
    "Au vu de toutes les expérimentations vues jusqu'à présent, le modèle qui propose de meilleurs résultats est un modèle ayant comme paramètres:\n",
    "- Un nombre de couches compris aux alentours de 20 (entre 15 et 25 environ, selon le 1er graphique), en méthode régréssive avec un nombre de neuronnes compris entre 60 et 10 meme avec un pas d'environ -2 ou -3\n",
    "- Adam, comme comme algo d'optimisation\n",
    "- Relu, comme fonction d'activation. Les autres sont assez proches en terme de résultat, à l'expection de 'logistic' qui n'est pas précise\n",
    "- Un paramètre de regulation le plus petit possible (environ 0.0001 ou moins)"
   ]
  },
  {
   "cell_type": "markdown",
   "metadata": {},
   "source": [
    "#### A votre avis, quels sont les avantages et les inconvénients des A-nn : optimalité ? temps de calcul ? passage à l'échelle ? "
   ]
  },
  {
   "cell_type": "markdown",
   "metadata": {},
   "source": [
    "#### Avantages: \n",
    "    - Tolérance aux fautes: Meme si un ou plusieurs neuronnes sont corrumpus, cela n'empeche pas la génération de sortie(s)\n",
    "    - Capacité à faire du calcul en parallèle\n",
    "    - Capacité à générer des estimations pertinentes à partir de peu d'exemples \n",
    "    \n",
    "#### Inconvénients: \n",
    "    - Architecture: Il n'existe pas vraiment de moyens permettant de définir l'architecture optimale du réseau de neurones. En effet, le réseau qui apparaît optimal d'une façon globale ne délivre pas toujours les résultats les plus pertinents. Il est donc souvent difficile de déterminer le nombre de couches cachées du réseau ainsi que le nombre de neurones sur chacune d'entre elles\n",
    "    - Décisions prises qui sont difficiles à analyser ou expliquer\n",
    "    - Difficultés à estimer les temps de calcul du A-nn"
   ]
  }
 ],
 "metadata": {
  "kernelspec": {
   "display_name": "Python 3",
   "language": "python",
   "name": "python3"
  },
  "language_info": {
   "codemirror_mode": {
    "name": "ipython",
    "version": 3
   },
   "file_extension": ".py",
   "mimetype": "text/x-python",
   "name": "python",
   "nbconvert_exporter": "python",
   "pygments_lexer": "ipython3",
   "version": "3.7.4"
  },
  "latex_envs": {
   "LaTeX_envs_menu_present": true,
   "autoclose": false,
   "autocomplete": true,
   "bibliofile": "biblio.bib",
   "cite_by": "apalike",
   "current_citInitial": 1,
   "eqLabelWithNumbers": true,
   "eqNumInitial": 1,
   "hotkeys": {
    "equation": "Ctrl-E",
    "itemize": "Ctrl-I"
   },
   "labels_anchors": false,
   "latex_user_defs": false,
   "report_style_numbering": false,
   "user_envs_cfg": false
  }
 },
 "nbformat": 4,
 "nbformat_minor": 2
}
